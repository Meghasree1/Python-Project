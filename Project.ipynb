{
  "nbformat": 4,
  "nbformat_minor": 0,
  "metadata": {
    "colab": {
      "name": "Project.ipynb",
      "provenance": []
    },
    "kernelspec": {
      "name": "python3",
      "display_name": "Python 3"
    }
  },
  "cells": [
    {
      "cell_type": "markdown",
      "metadata": {
        "id": "UceyiJ-xlNta",
        "colab_type": "text"
      },
      "source": [
        "Project name:Contact App.\n",
        "Features:\n",
        "* Add a contact detail\n",
        "* Search the contact detail\n",
        "* Modify a contact detail\n",
        "* To delete the contact detail\n"
      ]
    },
    {
      "cell_type": "code",
      "metadata": {
        "id": "VeXzebyvlOyw",
        "colab_type": "code",
        "colab": {
          "base_uri": "https://localhost:8080/",
          "height": 221
        },
        "outputId": "dc10bc7f-db90-44f1-8728-90f666e5e880"
      },
      "source": [
        "Contact={}#Empty dict object is taken\n",
        "#lets create a function to add a contact detail\n",
        "def Addcontact(name,phone):\n",
        "    if name in Contact.keys():\n",
        "        print(\"Already exists\")\n",
        "    else:\n",
        "        Contact[name]=phone\n",
        "        print(\"Contact added Successfully\")\n",
        "    return  \n",
        "Addcontact(\"Niraj\",\"123456\")\n",
        "Addcontact(\"sip\",\"159489\")\n",
        "Addcontact(\"Megha\",\"789456\")\n",
        "Addcontact(\"Harry\",\"123456\")\n",
        "Addcontact(\"Ijju\",\"159654\")\n",
        "Addcontact(\"sho\",\"258963\")\n",
        "Addcontact(\"Niraj\",\"123456\")\n",
        "#Function to search contact\n",
        "def Searchcontact(name):\n",
        "    if name in Contact.keys():\n",
        "        print (name, \":\" ,Contact[name])\n",
        "    else:\n",
        "        print(name,\"contact does not exist\")\n",
        "Searchcontact(\"Megha\")\n",
        "Searchcontact(\"xyz\")\n",
        "#Function to modify the detail\n",
        "def modifycontact(name,phone):\n",
        "    if name in Contact.keys():\n",
        "        Contact[name]=phone\n",
        "        print(name,\"Updated successfully\")\n",
        "    else:\n",
        "        print(name,\"not exists\")\n",
        "modifycontact(\"sho\",\"123456\")\n",
        "#Function to delete a contact\n",
        "def deletecontact(name):\n",
        "    if name in Contact.keys():\n",
        "        y=input(\"Press YES to delete contact permanently or press NO \")\n",
        "        if y==\"YES\":\n",
        "            Contact.pop(name)#else we can use del Contact[name]\n",
        "            print(name,\"deleted successfully\")\n",
        "        else:\n",
        "            return\n",
        "    else:\n",
        "        print(name,\"does not exist\")\n",
        "deletecontact(\"sho\")\n",
        "\n",
        "\n"
      ],
      "execution_count": 100,
      "outputs": [
        {
          "output_type": "stream",
          "text": [
            "Contact added Successfully\n",
            "Contact added Successfully\n",
            "Contact added Successfully\n",
            "Contact added Successfully\n",
            "Contact added Successfully\n",
            "Contact added Successfully\n",
            "Already exists\n",
            "Megha : 789456\n",
            "xyz contact does not exist\n",
            "sho Updated successfully\n",
            "Press YES to delete contact permanently or press NO YES\n",
            "sho deleted successfully\n"
          ],
          "name": "stdout"
        }
      ]
    },
    {
      "cell_type": "code",
      "metadata": {
        "id": "qQWCXt_IPg6B",
        "colab_type": "code",
        "colab": {
          "base_uri": "https://localhost:8080/",
          "height": 102
        },
        "outputId": "e1988152-7148-4d65-f3f3-04b2caa00ceb"
      },
      "source": [
        "Contact"
      ],
      "execution_count": 101,
      "outputs": [
        {
          "output_type": "execute_result",
          "data": {
            "text/plain": [
              "{'Harry': '123456',\n",
              " 'Ijju': '159654',\n",
              " 'Megha': '789456',\n",
              " 'Niraj': '123456',\n",
              " 'sip': '159489'}"
            ]
          },
          "metadata": {
            "tags": []
          },
          "execution_count": 101
        }
      ]
    },
    {
      "cell_type": "code",
      "metadata": {
        "id": "7q6gyxxBYgTD",
        "colab_type": "code",
        "colab": {}
      },
      "source": [
        ""
      ],
      "execution_count": 0,
      "outputs": []
    }
  ]
}